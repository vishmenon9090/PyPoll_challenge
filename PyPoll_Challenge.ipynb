{
 "cells": [
  {
   "cell_type": "code",
   "execution_count": 217,
   "metadata": {
    "collapsed": true
   },
   "outputs": [],
   "source": [
    "\"\"\"PyPoll Homework Challenge Solution.\"\"\"\n",
    "import csv\n",
    "import os\n"
   ]
  },
  {
   "cell_type": "code",
   "execution_count": 218,
   "metadata": {
    "collapsed": true
   },
   "outputs": [],
   "source": [
    "file_to_load = os.path.join(\"Resources\", \"election_results.csv\")"
   ]
  },
  {
   "cell_type": "code",
   "execution_count": 219,
   "metadata": {
    "collapsed": true
   },
   "outputs": [],
   "source": [
    "file_to_save = os.path.join(\"analysis\", \"election_analysis.txt\")"
   ]
  },
  {
   "cell_type": "code",
   "execution_count": 220,
   "metadata": {
    "collapsed": true
   },
   "outputs": [],
   "source": [
    "# Initialize a total vote counter.\n",
    "total_votes = 0"
   ]
  },
  {
   "cell_type": "code",
   "execution_count": 221,
   "metadata": {
    "collapsed": true
   },
   "outputs": [],
   "source": [
    "# Candidate Options and candidate votes.\n",
    "candidate_options = []\n",
    "candidate_votes = {}"
   ]
  },
  {
   "cell_type": "code",
   "execution_count": 222,
   "metadata": {
    "collapsed": true
   },
   "outputs": [],
   "source": [
    "\n",
    "# 1: Create a county list and county votes dictionary.\n",
    "county_options = []\n",
    "county_votes={}"
   ]
  },
  {
   "cell_type": "code",
   "execution_count": 223,
   "metadata": {
    "collapsed": true
   },
   "outputs": [],
   "source": [
    "\n",
    "# Track the winning candidate, vote count and percentage\n",
    "winning_candidate = \"\"\n",
    "winning_count = 0\n",
    "winning_county = 0\n",
    "winning_percentage = 0\n",
    "winning_c_percentage = 0"
   ]
  },
  {
   "cell_type": "code",
   "execution_count": 224,
   "metadata": {
    "collapsed": true
   },
   "outputs": [],
   "source": [
    "# 2: Track the largest county and county voter turnout.\n",
    "lrg_turnout_county = \"\"\n",
    "lrg_turn_count = 0\n",
    "\n"
   ]
  },
  {
   "cell_type": "code",
   "execution_count": 225,
   "metadata": {
    "collapsed": true
   },
   "outputs": [],
   "source": [
    "# Read the csv and convert it into a list of dictionaries\n",
    "with open(file_to_load) as election_data:\n",
    "    reader = csv.reader(election_data)\n",
    "\n",
    "    # Read the header\n",
    "    header = next(reader)\n",
    "\n",
    "    # For each row in the CSV file.\n",
    "    for row in reader:\n",
    "\n",
    "        # Add to the total vote count\n",
    "        total_votes = total_votes + 1\n",
    "\n",
    "        # Get the candidate name and county name from rows.\n",
    "        candidate_name = row[2]\n",
    "\n",
    "        # 3: Extract the county name from each row.\n",
    "        county_name = row[1]\n",
    "\n",
    "\n",
    "        # If the candidate does not match any existing candidate add it to\n",
    "        # the candidate list\n",
    "        if candidate_name not in candidate_options:\n",
    "\n",
    "            # Add the candidate name to the candidate list.\n",
    "            candidate_options.append(candidate_name)\n",
    "\n",
    "            # And begin tracking that candidate's voter count.\n",
    "            candidate_votes[candidate_name] = 0\n",
    "\n",
    "        # Add a vote to that candidate's count\n",
    "        candidate_votes[candidate_name] += 1\n",
    "\n",
    "        # 4a: Write a decision statement that checks that the\n",
    "        # county does not match any existing county in the county list.\n",
    "        if county_name not in county_options:  \n",
    "\n",
    "            # 4b: Add the existing county to the list of counties.\n",
    "            county_options.append(county_name)\n",
    "\n",
    "            # 4c: Begin tracking the county's vote count.\n",
    "            county_votes[county_name] = 0\n",
    "\n",
    "        # 5: Add a vote to that county's vote count.\n",
    "        county_votes[county_name] += 1"
   ]
  },
  {
   "cell_type": "code",
   "execution_count": 226,
   "metadata": {},
   "outputs": [
    {
     "name": "stdout",
     "output_type": "stream",
     "text": [
      "\n",
      "-------------------------\n",
      "Election Results\n",
      "-------------------------\n",
      "Total Votes: 369,711\n",
      "-------------------------\n",
      "\n",
      "County Votes:\n",
      "-------------------------\n",
      "Jefferson: 10.5% (38,855)\n",
      "Denver: 82.8% (306,055)\n",
      "Arapahoe: 6.7% (24,801)\n",
      "\n",
      "-------------------------\n",
      "Largest County Turnout: Denver\n",
      "Winning County Vote: 306,055\n",
      "Winning County Percentage: 82.8%\n",
      "-------------------------\n",
      "\n",
      "Candidate Percentage of Votes:\n",
      "-------------------------\n",
      "\n",
      "Charles Casper Stockham: 23.0% (85,213)\n",
      "\n",
      "Diana DeGette: 73.8% (272,892)\n",
      "\n",
      "Raymon Anthony Doane: 3.1% (11,606)\n",
      "\n",
      "\n",
      "-------------------------\n",
      "Winner: Diana DeGette\n",
      "Winning Vote Count: 272,892\n",
      "Winning Percentage: 73.8%\n",
      "-------------------------\n",
      "\n"
     ]
    }
   ],
   "source": [
    "# Save the results to our text file.\n",
    "with open(file_to_save, \"w\") as txt_file:\n",
    "\n",
    "    # Print the final vote count (to terminal)\n",
    "    election_results = (\n",
    "        f\"\\n-------------------------\\n\"\n",
    "        f\"Election Results\\n\"\n",
    "        f\"-------------------------\\n\"\n",
    "        f\"Total Votes: {total_votes:,}\\n\"\n",
    "        f\"-------------------------\\n\\n\"\n",
    "        f\"County Votes:\\n\"\n",
    "        f\"-------------------------\\n\")\n",
    "    print(election_results, end=\"\")\n",
    "\n",
    "    txt_file.write(election_results)\n",
    "\n",
    "    # 6a: Write a repetition statement to get the county from the county dictionary.\n",
    "    for county_name in county_votes:\n",
    "        # 6b: Retrieve the county vote count.\n",
    "        county = county_votes.get(county_name)\n",
    "\n",
    "        # 6c: Calculate the percent of total votes for the county.\n",
    "        county_percentage = float(county) / float(total_votes) * 100\n",
    "        county_results = (\n",
    "            f\"{county_name}: {county_percentage:.1f}% ({county:,})\\n\")\n",
    "\n",
    "         # 6d: Print the county results to the terminal.\n",
    "        print(county_results, end=\"\")\n",
    "         # 6e: Save the county votes to a text file.\n",
    "        txt_file.write(county_results)\n",
    "         # 6f: Write a decision statement to determine the winning county and get its vote count.\n",
    "        if (county > winning_county) and (county_percentage > winning_c_percentage):\n",
    "            winning_county = county\n",
    "            winning_c_candidate = county_name\n",
    "            winning_c_percentage = county_percentage\n",
    "\n",
    "    # 7: Print the county with the largest turnout to the terminal.\n",
    "    winning_county_summary = (\n",
    "        f\"\\n-------------------------\\n\"\n",
    "        f\"Largest County Turnout: {winning_c_candidate}\\n\"\n",
    "        f\"Winning County Vote: {winning_county:,}\\n\"\n",
    "        f\"Winning County Percentage: {winning_c_percentage:.1f}%\\n\"\n",
    "        f\"-------------------------\\n\\n\"\n",
    "        f\"Candidate Percentage of Votes:\\n\"\n",
    "        f\"-------------------------\\n\")\n",
    "    print(winning_county_summary)\n",
    "\n",
    "    # 8: Save the county with the largest turnout to a text file.\n",
    "    txt_file.write(winning_county_summary)\n",
    "\n",
    "    # Save the final candidate vote count to the text file.\n",
    "    for candidate_name in candidate_votes:\n",
    "\n",
    "        # Retrieve vote count and percentage\n",
    "        votes = candidate_votes.get(candidate_name)\n",
    "        vote_percentage = float(votes) / float(total_votes) * 100\n",
    "        candidate_results = (\n",
    "            f\"{candidate_name}: {vote_percentage:.1f}% ({votes:,})\\n\")\n",
    "\n",
    "        # Print each candidate's voter count and percentage to the\n",
    "        # terminal.\n",
    "        print(candidate_results)\n",
    "        #  Save the candidate results to our text file.\n",
    "        txt_file.write(candidate_results)\n",
    "\n",
    "        # Determine winning vote count, winning percentage, and candidate.\n",
    "        if (votes > winning_count) and (vote_percentage > winning_percentage):\n",
    "            winning_count = votes\n",
    "            winning_candidate = candidate_name\n",
    "            winning_percentage = vote_percentage\n",
    "\n",
    "    # Print the winning candidate (to terminal)\n",
    "    winning_candidate_summary = (\n",
    "        f\"\\n-------------------------\\n\"\n",
    "        f\"Winner: {winning_candidate}\\n\"\n",
    "        f\"Winning Vote Count: {winning_count:,}\\n\"\n",
    "        f\"Winning Percentage: {winning_percentage:.1f}%\\n\"\n",
    "        f\"-------------------------\\n\")\n",
    "    print(winning_candidate_summary)\n",
    "\n",
    "    # Save the winning candidate's name to the text file\n",
    "    txt_file.write(winning_candidate_summary)"
   ]
  },
  {
   "cell_type": "code",
   "execution_count": null,
   "metadata": {
    "collapsed": true
   },
   "outputs": [],
   "source": []
  }
 ],
 "metadata": {
  "kernelspec": {
   "display_name": "Python 3",
   "language": "python",
   "name": "python3"
  },
  "language_info": {
   "codemirror_mode": {
    "name": "ipython",
    "version": 3
   },
   "file_extension": ".py",
   "mimetype": "text/x-python",
   "name": "python",
   "nbconvert_exporter": "python",
   "pygments_lexer": "ipython3",
   "version": "3.6.3"
  }
 },
 "nbformat": 4,
 "nbformat_minor": 2
}
